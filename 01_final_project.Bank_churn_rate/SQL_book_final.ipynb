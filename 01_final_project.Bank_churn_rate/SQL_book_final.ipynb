{
 "cells": [
  {
   "cell_type": "markdown",
   "id": "e2d521d6",
   "metadata": {},
   "source": [
    "# SQL запросы к базе данных  \n",
    "\n",
    "Компания приобрела крупный сервис для чтения книг по подписке. Необходимо проанализировать базу данных, в которой храниться информация о книгах, издательствах, авторах, а также пользовательские обзоры книг.\n",
    "\n",
    "**Цель исследования:**  \n",
    "Проанализировать базу данных, для последующего формирования ценностного предложения для нового продукта.  \n",
    "\n",
    "**Задачи:**  \n",
    "- Посчитать какое количество книг вышло после 1 января 2000 года\n",
    "- Для каждой книги посчитать количество обзоров и среднюю оценку\n",
    "- Определить издательство, которое выпустило наибольшее число книг толще 50 страниц (исключить брошюры)\n",
    "- Определить автора с самой высокой средней оценкой книг (учитывать только книги с 50 и более оценками)\n",
    "- Посчитать среднее количество обзоров от пользователей, которые поставили больше 48 оценок.  \n",
    "\n",
    "**Описание данных:**   \n",
    "\n",
    "**Таблица** `books` (содержит данные о книгах):\n",
    "- *book_id* - идентификатор книги\n",
    "- *author_id* - идентификатор автора\n",
    "- *title* - название книги\n",
    "- *num_pages* - количество страниц\n",
    "- *publication_date* - дата публикации книги\n",
    "- *publisher_id* - идентификатор издателя  \n",
    "\n",
    "**Таблица** `authors` (содержит данные об авторах):\n",
    "- *author_id* - идентификатор автора\n",
    "- *author* - имя автора  \n",
    "\n",
    "**Таблица** `publishers` (содержит данные об издательствах):\n",
    "- *publisher_id* - идентификатор издательства\n",
    "- *publisher* - название издательства  \n",
    "\n",
    "**Таблица** `ratings` (содержит данные о пользовательских оценках книг):\n",
    "- *rating_id* - идентификатор оценки\n",
    "- *book_id* - идентификатор книги \n",
    "- *username* - имя пользователя, оставившего оценку  \n",
    "- *rating* - оценка книги  \n",
    "\n",
    "**Таблица** `reviews` (содержит данные о пользовательских обзорах на книги):\n",
    "- *review_id* - идентификатор обзора\n",
    "- *book_id* - идентификатор книги \n",
    "- *username* - имя пользователя, написавшего обзор  \n",
    "- *text* - текст обзора  "
   ]
  },
  {
   "cell_type": "code",
   "execution_count": 1,
   "id": "67de6344",
   "metadata": {},
   "outputs": [],
   "source": [
    "# !pip install psycopg2\n",
    "\n",
    "\n",
    "# импортируем необходимые библиотеки\n",
    "\n",
    "import pandas as pd\n",
    "import sqlalchemy as sa"
   ]
  },
  {
   "cell_type": "code",
   "execution_count": 13,
   "id": "2f2641dc",
   "metadata": {},
   "outputs": [],
   "source": [
    "# устанавливаем параметры\n",
    "\n",
    "db_config = {\n",
    "    'user': , # имя пользователя\n",
    "    'pwd': ,  # пароль\n",
    "    'host': , # хост\n",
    "    'port': , # порт\n",
    "    'db':     # база данных\n",
    "}\n",
    "connection_string = 'postgresql://{user}:{pwd}@{host}:{port}/{db}'.format(**db_config)\n",
    "\n",
    "# сохраняем коннектор\n",
    "\n",
    "engine = sa.create_engine(connection_string, connect_args={'sslmode':'require'})"
   ]
  },
  {
   "cell_type": "markdown",
   "id": "14217304",
   "metadata": {},
   "source": [
    "Исследуем таблицы.  \n",
    "Выведем первые строки и посчитаем количество строк в каждой таблице."
   ]
  },
  {
   "cell_type": "code",
   "execution_count": 3,
   "id": "42b0ca4c",
   "metadata": {
    "scrolled": false
   },
   "outputs": [
    {
     "name": "stdout",
     "output_type": "stream",
     "text": [
      "\n",
      "\u001b[7;30m таблица:  books\u001b[0m\n",
      "\n"
     ]
    },
    {
     "data": {
      "text/html": [
       "<div>\n",
       "<style scoped>\n",
       "    .dataframe tbody tr th:only-of-type {\n",
       "        vertical-align: middle;\n",
       "    }\n",
       "\n",
       "    .dataframe tbody tr th {\n",
       "        vertical-align: top;\n",
       "    }\n",
       "\n",
       "    .dataframe thead th {\n",
       "        text-align: right;\n",
       "    }\n",
       "</style>\n",
       "<table border=\"1\" class=\"dataframe\">\n",
       "  <thead>\n",
       "    <tr style=\"text-align: right;\">\n",
       "      <th></th>\n",
       "      <th>book_id</th>\n",
       "      <th>author_id</th>\n",
       "      <th>title</th>\n",
       "      <th>num_pages</th>\n",
       "      <th>publication_date</th>\n",
       "      <th>publisher_id</th>\n",
       "    </tr>\n",
       "  </thead>\n",
       "  <tbody>\n",
       "    <tr>\n",
       "      <th>0</th>\n",
       "      <td>1</td>\n",
       "      <td>546</td>\n",
       "      <td>'Salem's Lot</td>\n",
       "      <td>594</td>\n",
       "      <td>2005-11-01</td>\n",
       "      <td>93</td>\n",
       "    </tr>\n",
       "    <tr>\n",
       "      <th>1</th>\n",
       "      <td>2</td>\n",
       "      <td>465</td>\n",
       "      <td>1 000 Places to See Before You Die</td>\n",
       "      <td>992</td>\n",
       "      <td>2003-05-22</td>\n",
       "      <td>336</td>\n",
       "    </tr>\n",
       "    <tr>\n",
       "      <th>2</th>\n",
       "      <td>3</td>\n",
       "      <td>407</td>\n",
       "      <td>13 Little Blue Envelopes (Little Blue Envelope...</td>\n",
       "      <td>322</td>\n",
       "      <td>2010-12-21</td>\n",
       "      <td>135</td>\n",
       "    </tr>\n",
       "    <tr>\n",
       "      <th>3</th>\n",
       "      <td>4</td>\n",
       "      <td>82</td>\n",
       "      <td>1491: New Revelations of the Americas Before C...</td>\n",
       "      <td>541</td>\n",
       "      <td>2006-10-10</td>\n",
       "      <td>309</td>\n",
       "    </tr>\n",
       "    <tr>\n",
       "      <th>4</th>\n",
       "      <td>5</td>\n",
       "      <td>125</td>\n",
       "      <td>1776</td>\n",
       "      <td>386</td>\n",
       "      <td>2006-07-04</td>\n",
       "      <td>268</td>\n",
       "    </tr>\n",
       "  </tbody>\n",
       "</table>\n",
       "</div>"
      ],
      "text/plain": [
       "   book_id  author_id                                              title  \\\n",
       "0        1        546                                       'Salem's Lot   \n",
       "1        2        465                 1 000 Places to See Before You Die   \n",
       "2        3        407  13 Little Blue Envelopes (Little Blue Envelope...   \n",
       "3        4         82  1491: New Revelations of the Americas Before C...   \n",
       "4        5        125                                               1776   \n",
       "\n",
       "   num_pages publication_date  publisher_id  \n",
       "0        594       2005-11-01            93  \n",
       "1        992       2003-05-22           336  \n",
       "2        322       2010-12-21           135  \n",
       "3        541       2006-10-10           309  \n",
       "4        386       2006-07-04           268  "
      ]
     },
     "metadata": {},
     "output_type": "display_data"
    },
    {
     "name": "stdout",
     "output_type": "stream",
     "text": [
      "\n",
      "\u001b[1;4;30m количество строк в таблице: \u001b[0m\n"
     ]
    },
    {
     "data": {
      "text/html": [
       "<div>\n",
       "<style scoped>\n",
       "    .dataframe tbody tr th:only-of-type {\n",
       "        vertical-align: middle;\n",
       "    }\n",
       "\n",
       "    .dataframe tbody tr th {\n",
       "        vertical-align: top;\n",
       "    }\n",
       "\n",
       "    .dataframe thead th {\n",
       "        text-align: right;\n",
       "    }\n",
       "</style>\n",
       "<table border=\"1\" class=\"dataframe\">\n",
       "  <thead>\n",
       "    <tr style=\"text-align: right;\">\n",
       "      <th></th>\n",
       "      <th>count</th>\n",
       "    </tr>\n",
       "  </thead>\n",
       "  <tbody>\n",
       "    <tr>\n",
       "      <th>0</th>\n",
       "      <td>1000</td>\n",
       "    </tr>\n",
       "  </tbody>\n",
       "</table>\n",
       "</div>"
      ],
      "text/plain": [
       "   count\n",
       "0   1000"
      ]
     },
     "metadata": {},
     "output_type": "display_data"
    },
    {
     "name": "stdout",
     "output_type": "stream",
     "text": [
      "\n",
      "\u001b[7;30m таблица:  authors\u001b[0m\n",
      "\n"
     ]
    },
    {
     "data": {
      "text/html": [
       "<div>\n",
       "<style scoped>\n",
       "    .dataframe tbody tr th:only-of-type {\n",
       "        vertical-align: middle;\n",
       "    }\n",
       "\n",
       "    .dataframe tbody tr th {\n",
       "        vertical-align: top;\n",
       "    }\n",
       "\n",
       "    .dataframe thead th {\n",
       "        text-align: right;\n",
       "    }\n",
       "</style>\n",
       "<table border=\"1\" class=\"dataframe\">\n",
       "  <thead>\n",
       "    <tr style=\"text-align: right;\">\n",
       "      <th></th>\n",
       "      <th>author_id</th>\n",
       "      <th>author</th>\n",
       "    </tr>\n",
       "  </thead>\n",
       "  <tbody>\n",
       "    <tr>\n",
       "      <th>0</th>\n",
       "      <td>1</td>\n",
       "      <td>A.S. Byatt</td>\n",
       "    </tr>\n",
       "    <tr>\n",
       "      <th>1</th>\n",
       "      <td>2</td>\n",
       "      <td>Aesop/Laura Harris/Laura Gibbs</td>\n",
       "    </tr>\n",
       "    <tr>\n",
       "      <th>2</th>\n",
       "      <td>3</td>\n",
       "      <td>Agatha Christie</td>\n",
       "    </tr>\n",
       "    <tr>\n",
       "      <th>3</th>\n",
       "      <td>4</td>\n",
       "      <td>Alan Brennert</td>\n",
       "    </tr>\n",
       "    <tr>\n",
       "      <th>4</th>\n",
       "      <td>5</td>\n",
       "      <td>Alan Moore/David   Lloyd</td>\n",
       "    </tr>\n",
       "  </tbody>\n",
       "</table>\n",
       "</div>"
      ],
      "text/plain": [
       "   author_id                          author\n",
       "0          1                      A.S. Byatt\n",
       "1          2  Aesop/Laura Harris/Laura Gibbs\n",
       "2          3                 Agatha Christie\n",
       "3          4                   Alan Brennert\n",
       "4          5        Alan Moore/David   Lloyd"
      ]
     },
     "metadata": {},
     "output_type": "display_data"
    },
    {
     "name": "stdout",
     "output_type": "stream",
     "text": [
      "\n",
      "\u001b[1;4;30m количество строк в таблице: \u001b[0m\n"
     ]
    },
    {
     "data": {
      "text/html": [
       "<div>\n",
       "<style scoped>\n",
       "    .dataframe tbody tr th:only-of-type {\n",
       "        vertical-align: middle;\n",
       "    }\n",
       "\n",
       "    .dataframe tbody tr th {\n",
       "        vertical-align: top;\n",
       "    }\n",
       "\n",
       "    .dataframe thead th {\n",
       "        text-align: right;\n",
       "    }\n",
       "</style>\n",
       "<table border=\"1\" class=\"dataframe\">\n",
       "  <thead>\n",
       "    <tr style=\"text-align: right;\">\n",
       "      <th></th>\n",
       "      <th>count</th>\n",
       "    </tr>\n",
       "  </thead>\n",
       "  <tbody>\n",
       "    <tr>\n",
       "      <th>0</th>\n",
       "      <td>636</td>\n",
       "    </tr>\n",
       "  </tbody>\n",
       "</table>\n",
       "</div>"
      ],
      "text/plain": [
       "   count\n",
       "0    636"
      ]
     },
     "metadata": {},
     "output_type": "display_data"
    },
    {
     "name": "stdout",
     "output_type": "stream",
     "text": [
      "\n",
      "\u001b[7;30m таблица:  publishers\u001b[0m\n",
      "\n"
     ]
    },
    {
     "data": {
      "text/html": [
       "<div>\n",
       "<style scoped>\n",
       "    .dataframe tbody tr th:only-of-type {\n",
       "        vertical-align: middle;\n",
       "    }\n",
       "\n",
       "    .dataframe tbody tr th {\n",
       "        vertical-align: top;\n",
       "    }\n",
       "\n",
       "    .dataframe thead th {\n",
       "        text-align: right;\n",
       "    }\n",
       "</style>\n",
       "<table border=\"1\" class=\"dataframe\">\n",
       "  <thead>\n",
       "    <tr style=\"text-align: right;\">\n",
       "      <th></th>\n",
       "      <th>publisher_id</th>\n",
       "      <th>publisher</th>\n",
       "    </tr>\n",
       "  </thead>\n",
       "  <tbody>\n",
       "    <tr>\n",
       "      <th>0</th>\n",
       "      <td>1</td>\n",
       "      <td>Ace</td>\n",
       "    </tr>\n",
       "    <tr>\n",
       "      <th>1</th>\n",
       "      <td>2</td>\n",
       "      <td>Ace Book</td>\n",
       "    </tr>\n",
       "    <tr>\n",
       "      <th>2</th>\n",
       "      <td>3</td>\n",
       "      <td>Ace Books</td>\n",
       "    </tr>\n",
       "    <tr>\n",
       "      <th>3</th>\n",
       "      <td>4</td>\n",
       "      <td>Ace Hardcover</td>\n",
       "    </tr>\n",
       "    <tr>\n",
       "      <th>4</th>\n",
       "      <td>5</td>\n",
       "      <td>Addison Wesley Publishing Company</td>\n",
       "    </tr>\n",
       "  </tbody>\n",
       "</table>\n",
       "</div>"
      ],
      "text/plain": [
       "   publisher_id                          publisher\n",
       "0             1                                Ace\n",
       "1             2                           Ace Book\n",
       "2             3                          Ace Books\n",
       "3             4                      Ace Hardcover\n",
       "4             5  Addison Wesley Publishing Company"
      ]
     },
     "metadata": {},
     "output_type": "display_data"
    },
    {
     "name": "stdout",
     "output_type": "stream",
     "text": [
      "\n",
      "\u001b[1;4;30m количество строк в таблице: \u001b[0m\n"
     ]
    },
    {
     "data": {
      "text/html": [
       "<div>\n",
       "<style scoped>\n",
       "    .dataframe tbody tr th:only-of-type {\n",
       "        vertical-align: middle;\n",
       "    }\n",
       "\n",
       "    .dataframe tbody tr th {\n",
       "        vertical-align: top;\n",
       "    }\n",
       "\n",
       "    .dataframe thead th {\n",
       "        text-align: right;\n",
       "    }\n",
       "</style>\n",
       "<table border=\"1\" class=\"dataframe\">\n",
       "  <thead>\n",
       "    <tr style=\"text-align: right;\">\n",
       "      <th></th>\n",
       "      <th>count</th>\n",
       "    </tr>\n",
       "  </thead>\n",
       "  <tbody>\n",
       "    <tr>\n",
       "      <th>0</th>\n",
       "      <td>340</td>\n",
       "    </tr>\n",
       "  </tbody>\n",
       "</table>\n",
       "</div>"
      ],
      "text/plain": [
       "   count\n",
       "0    340"
      ]
     },
     "metadata": {},
     "output_type": "display_data"
    },
    {
     "name": "stdout",
     "output_type": "stream",
     "text": [
      "\n",
      "\u001b[7;30m таблица:  ratings\u001b[0m\n",
      "\n"
     ]
    },
    {
     "data": {
      "text/html": [
       "<div>\n",
       "<style scoped>\n",
       "    .dataframe tbody tr th:only-of-type {\n",
       "        vertical-align: middle;\n",
       "    }\n",
       "\n",
       "    .dataframe tbody tr th {\n",
       "        vertical-align: top;\n",
       "    }\n",
       "\n",
       "    .dataframe thead th {\n",
       "        text-align: right;\n",
       "    }\n",
       "</style>\n",
       "<table border=\"1\" class=\"dataframe\">\n",
       "  <thead>\n",
       "    <tr style=\"text-align: right;\">\n",
       "      <th></th>\n",
       "      <th>rating_id</th>\n",
       "      <th>book_id</th>\n",
       "      <th>username</th>\n",
       "      <th>rating</th>\n",
       "    </tr>\n",
       "  </thead>\n",
       "  <tbody>\n",
       "    <tr>\n",
       "      <th>0</th>\n",
       "      <td>1</td>\n",
       "      <td>1</td>\n",
       "      <td>ryanfranco</td>\n",
       "      <td>4</td>\n",
       "    </tr>\n",
       "    <tr>\n",
       "      <th>1</th>\n",
       "      <td>2</td>\n",
       "      <td>1</td>\n",
       "      <td>grantpatricia</td>\n",
       "      <td>2</td>\n",
       "    </tr>\n",
       "    <tr>\n",
       "      <th>2</th>\n",
       "      <td>3</td>\n",
       "      <td>1</td>\n",
       "      <td>brandtandrea</td>\n",
       "      <td>5</td>\n",
       "    </tr>\n",
       "    <tr>\n",
       "      <th>3</th>\n",
       "      <td>4</td>\n",
       "      <td>2</td>\n",
       "      <td>lorichen</td>\n",
       "      <td>3</td>\n",
       "    </tr>\n",
       "    <tr>\n",
       "      <th>4</th>\n",
       "      <td>5</td>\n",
       "      <td>2</td>\n",
       "      <td>mariokeller</td>\n",
       "      <td>2</td>\n",
       "    </tr>\n",
       "  </tbody>\n",
       "</table>\n",
       "</div>"
      ],
      "text/plain": [
       "   rating_id  book_id       username  rating\n",
       "0          1        1     ryanfranco       4\n",
       "1          2        1  grantpatricia       2\n",
       "2          3        1   brandtandrea       5\n",
       "3          4        2       lorichen       3\n",
       "4          5        2    mariokeller       2"
      ]
     },
     "metadata": {},
     "output_type": "display_data"
    },
    {
     "name": "stdout",
     "output_type": "stream",
     "text": [
      "\n",
      "\u001b[1;4;30m количество строк в таблице: \u001b[0m\n"
     ]
    },
    {
     "data": {
      "text/html": [
       "<div>\n",
       "<style scoped>\n",
       "    .dataframe tbody tr th:only-of-type {\n",
       "        vertical-align: middle;\n",
       "    }\n",
       "\n",
       "    .dataframe tbody tr th {\n",
       "        vertical-align: top;\n",
       "    }\n",
       "\n",
       "    .dataframe thead th {\n",
       "        text-align: right;\n",
       "    }\n",
       "</style>\n",
       "<table border=\"1\" class=\"dataframe\">\n",
       "  <thead>\n",
       "    <tr style=\"text-align: right;\">\n",
       "      <th></th>\n",
       "      <th>count</th>\n",
       "    </tr>\n",
       "  </thead>\n",
       "  <tbody>\n",
       "    <tr>\n",
       "      <th>0</th>\n",
       "      <td>6456</td>\n",
       "    </tr>\n",
       "  </tbody>\n",
       "</table>\n",
       "</div>"
      ],
      "text/plain": [
       "   count\n",
       "0   6456"
      ]
     },
     "metadata": {},
     "output_type": "display_data"
    },
    {
     "name": "stdout",
     "output_type": "stream",
     "text": [
      "\n",
      "\u001b[7;30m таблица:  reviews\u001b[0m\n",
      "\n"
     ]
    },
    {
     "data": {
      "text/html": [
       "<div>\n",
       "<style scoped>\n",
       "    .dataframe tbody tr th:only-of-type {\n",
       "        vertical-align: middle;\n",
       "    }\n",
       "\n",
       "    .dataframe tbody tr th {\n",
       "        vertical-align: top;\n",
       "    }\n",
       "\n",
       "    .dataframe thead th {\n",
       "        text-align: right;\n",
       "    }\n",
       "</style>\n",
       "<table border=\"1\" class=\"dataframe\">\n",
       "  <thead>\n",
       "    <tr style=\"text-align: right;\">\n",
       "      <th></th>\n",
       "      <th>review_id</th>\n",
       "      <th>book_id</th>\n",
       "      <th>username</th>\n",
       "      <th>text</th>\n",
       "    </tr>\n",
       "  </thead>\n",
       "  <tbody>\n",
       "    <tr>\n",
       "      <th>0</th>\n",
       "      <td>1</td>\n",
       "      <td>1</td>\n",
       "      <td>brandtandrea</td>\n",
       "      <td>Mention society tell send professor analysis. ...</td>\n",
       "    </tr>\n",
       "    <tr>\n",
       "      <th>1</th>\n",
       "      <td>2</td>\n",
       "      <td>1</td>\n",
       "      <td>ryanfranco</td>\n",
       "      <td>Foot glass pretty audience hit themselves. Amo...</td>\n",
       "    </tr>\n",
       "    <tr>\n",
       "      <th>2</th>\n",
       "      <td>3</td>\n",
       "      <td>2</td>\n",
       "      <td>lorichen</td>\n",
       "      <td>Listen treat keep worry. Miss husband tax but ...</td>\n",
       "    </tr>\n",
       "    <tr>\n",
       "      <th>3</th>\n",
       "      <td>4</td>\n",
       "      <td>3</td>\n",
       "      <td>johnsonamanda</td>\n",
       "      <td>Finally month interesting blue could nature cu...</td>\n",
       "    </tr>\n",
       "    <tr>\n",
       "      <th>4</th>\n",
       "      <td>5</td>\n",
       "      <td>3</td>\n",
       "      <td>scotttamara</td>\n",
       "      <td>Nation purpose heavy give wait song will. List...</td>\n",
       "    </tr>\n",
       "  </tbody>\n",
       "</table>\n",
       "</div>"
      ],
      "text/plain": [
       "   review_id  book_id       username  \\\n",
       "0          1        1   brandtandrea   \n",
       "1          2        1     ryanfranco   \n",
       "2          3        2       lorichen   \n",
       "3          4        3  johnsonamanda   \n",
       "4          5        3    scotttamara   \n",
       "\n",
       "                                                text  \n",
       "0  Mention society tell send professor analysis. ...  \n",
       "1  Foot glass pretty audience hit themselves. Amo...  \n",
       "2  Listen treat keep worry. Miss husband tax but ...  \n",
       "3  Finally month interesting blue could nature cu...  \n",
       "4  Nation purpose heavy give wait song will. List...  "
      ]
     },
     "metadata": {},
     "output_type": "display_data"
    },
    {
     "name": "stdout",
     "output_type": "stream",
     "text": [
      "\n",
      "\u001b[1;4;30m количество строк в таблице: \u001b[0m\n"
     ]
    },
    {
     "data": {
      "text/html": [
       "<div>\n",
       "<style scoped>\n",
       "    .dataframe tbody tr th:only-of-type {\n",
       "        vertical-align: middle;\n",
       "    }\n",
       "\n",
       "    .dataframe tbody tr th {\n",
       "        vertical-align: top;\n",
       "    }\n",
       "\n",
       "    .dataframe thead th {\n",
       "        text-align: right;\n",
       "    }\n",
       "</style>\n",
       "<table border=\"1\" class=\"dataframe\">\n",
       "  <thead>\n",
       "    <tr style=\"text-align: right;\">\n",
       "      <th></th>\n",
       "      <th>count</th>\n",
       "    </tr>\n",
       "  </thead>\n",
       "  <tbody>\n",
       "    <tr>\n",
       "      <th>0</th>\n",
       "      <td>2793</td>\n",
       "    </tr>\n",
       "  </tbody>\n",
       "</table>\n",
       "</div>"
      ],
      "text/plain": [
       "   count\n",
       "0   2793"
      ]
     },
     "metadata": {},
     "output_type": "display_data"
    }
   ],
   "source": [
    "for table in ['books', 'authors', 'publishers', 'ratings', 'reviews']:\n",
    "    print(f'\\n\\033[7;30m таблица:  {table}\\033[0m\\n')\n",
    "    display(pd.read_sql_query(f'''select * from {table} limit 5''', engine))\n",
    "    print('\\n\\033[1;4;30m количество строк в таблице: \\033[0m')\n",
    "    display(pd.read_sql_query(f'''select count(*) from {table}''', engine))"
   ]
  },
  {
   "cell_type": "markdown",
   "id": "ec6bcc65",
   "metadata": {},
   "source": [
    "База данных состоит из пяти таблиц, которые хранят в себе данные о книгах, их авторах, оценках и обзорах и об издательствах.  \n",
    "Всего представлена информация о 1000 книг, 636 авторах, 340 издательств, более 6 тысяч оценок и почти три тысячи обзоров на книги "
   ]
  },
  {
   "cell_type": "markdown",
   "id": "85970ffb",
   "metadata": {},
   "source": [
    "**Запрос 1**  \n",
    "Посчитать какое количество книг вышло после 1 января 2000 года"
   ]
  },
  {
   "cell_type": "code",
   "execution_count": 4,
   "id": "cc17d7bd",
   "metadata": {
    "scrolled": true
   },
   "outputs": [
    {
     "data": {
      "text/html": [
       "<div>\n",
       "<style scoped>\n",
       "    .dataframe tbody tr th:only-of-type {\n",
       "        vertical-align: middle;\n",
       "    }\n",
       "\n",
       "    .dataframe tbody tr th {\n",
       "        vertical-align: top;\n",
       "    }\n",
       "\n",
       "    .dataframe thead th {\n",
       "        text-align: right;\n",
       "    }\n",
       "</style>\n",
       "<table border=\"1\" class=\"dataframe\">\n",
       "  <thead>\n",
       "    <tr style=\"text-align: right;\">\n",
       "      <th></th>\n",
       "      <th>count</th>\n",
       "    </tr>\n",
       "  </thead>\n",
       "  <tbody>\n",
       "    <tr>\n",
       "      <th>0</th>\n",
       "      <td>819</td>\n",
       "    </tr>\n",
       "  </tbody>\n",
       "</table>\n",
       "</div>"
      ],
      "text/plain": [
       "   count\n",
       "0    819"
      ]
     },
     "metadata": {},
     "output_type": "display_data"
    }
   ],
   "source": [
    "query = '''\n",
    "select count(*)\n",
    "from books\n",
    "where publication_date > '2000-01-01'\n",
    "'''\n",
    "display((pd.read_sql_query(query, engine)))"
   ]
  },
  {
   "cell_type": "markdown",
   "id": "2e9724d4",
   "metadata": {},
   "source": [
    "819  книг было выпущено после 1 января 2000 года"
   ]
  },
  {
   "cell_type": "markdown",
   "id": "ce6f954b",
   "metadata": {},
   "source": [
    "**Запрос 2**  \n",
    "Для каждой книги посчитать количество обзоров и среднюю оценку"
   ]
  },
  {
   "cell_type": "code",
   "execution_count": 5,
   "id": "1bcb7c14",
   "metadata": {},
   "outputs": [
    {
     "data": {
      "text/html": [
       "<div>\n",
       "<style scoped>\n",
       "    .dataframe tbody tr th:only-of-type {\n",
       "        vertical-align: middle;\n",
       "    }\n",
       "\n",
       "    .dataframe tbody tr th {\n",
       "        vertical-align: top;\n",
       "    }\n",
       "\n",
       "    .dataframe thead th {\n",
       "        text-align: right;\n",
       "    }\n",
       "</style>\n",
       "<table border=\"1\" class=\"dataframe\">\n",
       "  <thead>\n",
       "    <tr style=\"text-align: right;\">\n",
       "      <th></th>\n",
       "      <th>title</th>\n",
       "      <th>reviews_count</th>\n",
       "      <th>avg_rating</th>\n",
       "    </tr>\n",
       "  </thead>\n",
       "  <tbody>\n",
       "    <tr>\n",
       "      <th>0</th>\n",
       "      <td>Twilight (Twilight  #1)</td>\n",
       "      <td>7</td>\n",
       "      <td>3.662500</td>\n",
       "    </tr>\n",
       "    <tr>\n",
       "      <th>1</th>\n",
       "      <td>Harry Potter and the Prisoner of Azkaban (Harr...</td>\n",
       "      <td>6</td>\n",
       "      <td>4.414634</td>\n",
       "    </tr>\n",
       "    <tr>\n",
       "      <th>2</th>\n",
       "      <td>Harry Potter and the Chamber of Secrets (Harry...</td>\n",
       "      <td>6</td>\n",
       "      <td>4.287500</td>\n",
       "    </tr>\n",
       "    <tr>\n",
       "      <th>3</th>\n",
       "      <td>The Book Thief</td>\n",
       "      <td>6</td>\n",
       "      <td>4.264151</td>\n",
       "    </tr>\n",
       "    <tr>\n",
       "      <th>4</th>\n",
       "      <td>The Glass Castle</td>\n",
       "      <td>6</td>\n",
       "      <td>4.206897</td>\n",
       "    </tr>\n",
       "    <tr>\n",
       "      <th>...</th>\n",
       "      <td>...</td>\n",
       "      <td>...</td>\n",
       "      <td>...</td>\n",
       "    </tr>\n",
       "    <tr>\n",
       "      <th>995</th>\n",
       "      <td>Disney's Beauty and the Beast (A Little Golden...</td>\n",
       "      <td>0</td>\n",
       "      <td>4.000000</td>\n",
       "    </tr>\n",
       "    <tr>\n",
       "      <th>996</th>\n",
       "      <td>Leonardo's Notebooks</td>\n",
       "      <td>0</td>\n",
       "      <td>4.000000</td>\n",
       "    </tr>\n",
       "    <tr>\n",
       "      <th>997</th>\n",
       "      <td>Essential Tales and Poems</td>\n",
       "      <td>0</td>\n",
       "      <td>4.000000</td>\n",
       "    </tr>\n",
       "    <tr>\n",
       "      <th>998</th>\n",
       "      <td>Anne Rice's The Vampire Lestat: A Graphic Novel</td>\n",
       "      <td>0</td>\n",
       "      <td>3.666667</td>\n",
       "    </tr>\n",
       "    <tr>\n",
       "      <th>999</th>\n",
       "      <td>The Natural Way to Draw</td>\n",
       "      <td>0</td>\n",
       "      <td>3.000000</td>\n",
       "    </tr>\n",
       "  </tbody>\n",
       "</table>\n",
       "<p>1000 rows × 3 columns</p>\n",
       "</div>"
      ],
      "text/plain": [
       "                                                 title  reviews_count  \\\n",
       "0                              Twilight (Twilight  #1)              7   \n",
       "1    Harry Potter and the Prisoner of Azkaban (Harr...              6   \n",
       "2    Harry Potter and the Chamber of Secrets (Harry...              6   \n",
       "3                                       The Book Thief              6   \n",
       "4                                     The Glass Castle              6   \n",
       "..                                                 ...            ...   \n",
       "995  Disney's Beauty and the Beast (A Little Golden...              0   \n",
       "996                               Leonardo's Notebooks              0   \n",
       "997                          Essential Tales and Poems              0   \n",
       "998    Anne Rice's The Vampire Lestat: A Graphic Novel              0   \n",
       "999                            The Natural Way to Draw              0   \n",
       "\n",
       "     avg_rating  \n",
       "0      3.662500  \n",
       "1      4.414634  \n",
       "2      4.287500  \n",
       "3      4.264151  \n",
       "4      4.206897  \n",
       "..          ...  \n",
       "995    4.000000  \n",
       "996    4.000000  \n",
       "997    4.000000  \n",
       "998    3.666667  \n",
       "999    3.000000  \n",
       "\n",
       "[1000 rows x 3 columns]"
      ]
     },
     "metadata": {},
     "output_type": "display_data"
    }
   ],
   "source": [
    "query = '''\n",
    "select b.title,\n",
    "       count(distinct review_id) as reviews_count,\n",
    "       avg(rating) as avg_rating\n",
    "from books as b\n",
    "left join reviews as r on b.book_id = r.book_id\n",
    "left join ratings as rt on b.book_id = rt.book_id\n",
    "group by b.book_id\n",
    "order by reviews_count desc, avg_rating desc\n",
    "'''\n",
    "display((pd.read_sql_query(query, engine)))"
   ]
  },
  {
   "cell_type": "markdown",
   "id": "7306eab1",
   "metadata": {},
   "source": [
    "Больше всего обзоров было у книги `Twilight` (7 обзоров), при этом средний рейтинг книги значительно ниже (3.66) относительно других книг из первой пятерки. Второе и третье место по количеству обзоров занимаю произведения о \"мальчике, который выжил\": `Harry Potter and the Prisoner of Azkaban` и `Harry Potter and the Chamber of Secrets`.  \n",
    "Есть книги, для которых еще не написано обзоров, но выставленны пользовательские оценки.  \n",
    "Посмотрим как расположились книги по среднему рейтингу. К запросу добавим еще столбец с количеством пользователей, оставивших оценку"
   ]
  },
  {
   "cell_type": "code",
   "execution_count": 6,
   "id": "6554a143",
   "metadata": {},
   "outputs": [
    {
     "data": {
      "text/html": [
       "<div>\n",
       "<style scoped>\n",
       "    .dataframe tbody tr th:only-of-type {\n",
       "        vertical-align: middle;\n",
       "    }\n",
       "\n",
       "    .dataframe tbody tr th {\n",
       "        vertical-align: top;\n",
       "    }\n",
       "\n",
       "    .dataframe thead th {\n",
       "        text-align: right;\n",
       "    }\n",
       "</style>\n",
       "<table border=\"1\" class=\"dataframe\">\n",
       "  <thead>\n",
       "    <tr style=\"text-align: right;\">\n",
       "      <th></th>\n",
       "      <th>title</th>\n",
       "      <th>reviews_count</th>\n",
       "      <th>user_rating_count</th>\n",
       "      <th>avg_rating</th>\n",
       "    </tr>\n",
       "  </thead>\n",
       "  <tbody>\n",
       "    <tr>\n",
       "      <th>0</th>\n",
       "      <td>A Dirty Job (Grim Reaper  #1)</td>\n",
       "      <td>4</td>\n",
       "      <td>4</td>\n",
       "      <td>5.00</td>\n",
       "    </tr>\n",
       "    <tr>\n",
       "      <th>1</th>\n",
       "      <td>School's Out—Forever (Maximum Ride  #2)</td>\n",
       "      <td>3</td>\n",
       "      <td>4</td>\n",
       "      <td>5.00</td>\n",
       "    </tr>\n",
       "    <tr>\n",
       "      <th>2</th>\n",
       "      <td>Moneyball: The Art of Winning an Unfair Game</td>\n",
       "      <td>3</td>\n",
       "      <td>3</td>\n",
       "      <td>5.00</td>\n",
       "    </tr>\n",
       "    <tr>\n",
       "      <th>3</th>\n",
       "      <td>In the Hand of the Goddess (Song of the Liones...</td>\n",
       "      <td>2</td>\n",
       "      <td>3</td>\n",
       "      <td>5.00</td>\n",
       "    </tr>\n",
       "    <tr>\n",
       "      <th>4</th>\n",
       "      <td>Women</td>\n",
       "      <td>2</td>\n",
       "      <td>2</td>\n",
       "      <td>5.00</td>\n",
       "    </tr>\n",
       "    <tr>\n",
       "      <th>...</th>\n",
       "      <td>...</td>\n",
       "      <td>...</td>\n",
       "      <td>...</td>\n",
       "      <td>...</td>\n",
       "    </tr>\n",
       "    <tr>\n",
       "      <th>995</th>\n",
       "      <td>The World Is Flat: A Brief History of the Twen...</td>\n",
       "      <td>3</td>\n",
       "      <td>4</td>\n",
       "      <td>2.25</td>\n",
       "    </tr>\n",
       "    <tr>\n",
       "      <th>996</th>\n",
       "      <td>Drowning Ruth</td>\n",
       "      <td>3</td>\n",
       "      <td>3</td>\n",
       "      <td>2.00</td>\n",
       "    </tr>\n",
       "    <tr>\n",
       "      <th>997</th>\n",
       "      <td>Junky</td>\n",
       "      <td>2</td>\n",
       "      <td>2</td>\n",
       "      <td>2.00</td>\n",
       "    </tr>\n",
       "    <tr>\n",
       "      <th>998</th>\n",
       "      <td>His Excellency: George Washington</td>\n",
       "      <td>2</td>\n",
       "      <td>2</td>\n",
       "      <td>2.00</td>\n",
       "    </tr>\n",
       "    <tr>\n",
       "      <th>999</th>\n",
       "      <td>Harvesting the Heart</td>\n",
       "      <td>2</td>\n",
       "      <td>2</td>\n",
       "      <td>1.50</td>\n",
       "    </tr>\n",
       "  </tbody>\n",
       "</table>\n",
       "<p>1000 rows × 4 columns</p>\n",
       "</div>"
      ],
      "text/plain": [
       "                                                 title  reviews_count  \\\n",
       "0                        A Dirty Job (Grim Reaper  #1)              4   \n",
       "1              School's Out—Forever (Maximum Ride  #2)              3   \n",
       "2         Moneyball: The Art of Winning an Unfair Game              3   \n",
       "3    In the Hand of the Goddess (Song of the Liones...              2   \n",
       "4                                                Women              2   \n",
       "..                                                 ...            ...   \n",
       "995  The World Is Flat: A Brief History of the Twen...              3   \n",
       "996                                      Drowning Ruth              3   \n",
       "997                                              Junky              2   \n",
       "998                  His Excellency: George Washington              2   \n",
       "999                               Harvesting the Heart              2   \n",
       "\n",
       "     user_rating_count  avg_rating  \n",
       "0                    4        5.00  \n",
       "1                    4        5.00  \n",
       "2                    3        5.00  \n",
       "3                    3        5.00  \n",
       "4                    2        5.00  \n",
       "..                 ...         ...  \n",
       "995                  4        2.25  \n",
       "996                  3        2.00  \n",
       "997                  2        2.00  \n",
       "998                  2        2.00  \n",
       "999                  2        1.50  \n",
       "\n",
       "[1000 rows x 4 columns]"
      ]
     },
     "metadata": {},
     "output_type": "display_data"
    }
   ],
   "source": [
    "query = '''\n",
    "select b.title,\n",
    "       count(distinct review_id) as reviews_count,\n",
    "       count(distinct rating_id) as user_rating_count,\n",
    "       avg(rating) as avg_rating\n",
    "from books as b\n",
    "left join reviews as r on b.book_id = r.book_id\n",
    "left join ratings as rt on b.book_id = rt.book_id\n",
    "group by b.book_id\n",
    "order by avg_rating desc, user_rating_count desc\n",
    "'''\n",
    "display((pd.read_sql_query(query, engine)))"
   ]
  },
  {
   "cell_type": "markdown",
   "id": "2c3ebe5e",
   "metadata": {},
   "source": [
    "По среднему рейтингу лидирует книга `A Dirty Job`, ее оценило 4 пользователz и 4 пользователя написали обзор. Также в пятерку лидеров по среднему рейтингу попали книги: `School's Out—Foreverб`, `Moneyball: The Art of Winning an Unfair Game`, `In the Hand of the Goddess`, `The Walking Dead Book One`.  \n",
    "Посмотрим у какого количества книг рейтинг равен 5. "
   ]
  },
  {
   "cell_type": "code",
   "execution_count": 7,
   "id": "9dd347af",
   "metadata": {},
   "outputs": [
    {
     "data": {
      "text/html": [
       "<div>\n",
       "<style scoped>\n",
       "    .dataframe tbody tr th:only-of-type {\n",
       "        vertical-align: middle;\n",
       "    }\n",
       "\n",
       "    .dataframe tbody tr th {\n",
       "        vertical-align: top;\n",
       "    }\n",
       "\n",
       "    .dataframe thead th {\n",
       "        text-align: right;\n",
       "    }\n",
       "</style>\n",
       "<table border=\"1\" class=\"dataframe\">\n",
       "  <thead>\n",
       "    <tr style=\"text-align: right;\">\n",
       "      <th></th>\n",
       "      <th>cnt_max_rating</th>\n",
       "    </tr>\n",
       "  </thead>\n",
       "  <tbody>\n",
       "    <tr>\n",
       "      <th>0</th>\n",
       "      <td>44</td>\n",
       "    </tr>\n",
       "  </tbody>\n",
       "</table>\n",
       "</div>"
      ],
      "text/plain": [
       "   cnt_max_rating\n",
       "0              44"
      ]
     },
     "metadata": {},
     "output_type": "display_data"
    }
   ],
   "source": [
    "query = '''\n",
    "with one as (select b.title,\n",
    "                    count(distinct review_id) as reviews_count,\n",
    "                    count(distinct rating_id) as user_rating_count,\n",
    "                    avg(rating) as avg_rating\n",
    "             from books as b\n",
    "             left join reviews as r on b.book_id = r.book_id\n",
    "             left join ratings as rt on b.book_id = rt.book_id\n",
    "             group by b.book_id\n",
    "             order by avg_rating desc, user_rating_count desc)\n",
    "select count(title) as cnt_max_rating\n",
    "from one\n",
    "where avg_rating = 5\n",
    "'''\n",
    "display((pd.read_sql_query(query, engine)))"
   ]
  },
  {
   "cell_type": "markdown",
   "id": "5a03b737",
   "metadata": {},
   "source": [
    "Из тысячи книг, у 44-х рейтинг равен 5 баллам.  \n",
    "И наконец посмотрим на топ-5 книг с самым большим количеством пользовательских оценок."
   ]
  },
  {
   "cell_type": "code",
   "execution_count": 8,
   "id": "ced85d95",
   "metadata": {},
   "outputs": [
    {
     "data": {
      "text/html": [
       "<div>\n",
       "<style scoped>\n",
       "    .dataframe tbody tr th:only-of-type {\n",
       "        vertical-align: middle;\n",
       "    }\n",
       "\n",
       "    .dataframe tbody tr th {\n",
       "        vertical-align: top;\n",
       "    }\n",
       "\n",
       "    .dataframe thead th {\n",
       "        text-align: right;\n",
       "    }\n",
       "</style>\n",
       "<table border=\"1\" class=\"dataframe\">\n",
       "  <thead>\n",
       "    <tr style=\"text-align: right;\">\n",
       "      <th></th>\n",
       "      <th>title</th>\n",
       "      <th>rating_count</th>\n",
       "    </tr>\n",
       "  </thead>\n",
       "  <tbody>\n",
       "    <tr>\n",
       "      <th>0</th>\n",
       "      <td>Twilight (Twilight  #1)</td>\n",
       "      <td>160</td>\n",
       "    </tr>\n",
       "    <tr>\n",
       "      <th>1</th>\n",
       "      <td>The Hobbit  or There and Back Again</td>\n",
       "      <td>88</td>\n",
       "    </tr>\n",
       "    <tr>\n",
       "      <th>2</th>\n",
       "      <td>The Catcher in the Rye</td>\n",
       "      <td>86</td>\n",
       "    </tr>\n",
       "    <tr>\n",
       "      <th>3</th>\n",
       "      <td>Angels &amp; Demons (Robert Langdon  #1)</td>\n",
       "      <td>84</td>\n",
       "    </tr>\n",
       "    <tr>\n",
       "      <th>4</th>\n",
       "      <td>Harry Potter and the Prisoner of Azkaban (Harr...</td>\n",
       "      <td>82</td>\n",
       "    </tr>\n",
       "  </tbody>\n",
       "</table>\n",
       "</div>"
      ],
      "text/plain": [
       "                                               title  rating_count\n",
       "0                            Twilight (Twilight  #1)           160\n",
       "1                The Hobbit  or There and Back Again            88\n",
       "2                             The Catcher in the Rye            86\n",
       "3               Angels & Demons (Robert Langdon  #1)            84\n",
       "4  Harry Potter and the Prisoner of Azkaban (Harr...            82"
      ]
     },
     "metadata": {},
     "output_type": "display_data"
    }
   ],
   "source": [
    "query = '''\n",
    "select b.title,\n",
    "       count(distinct rating_id) as rating_count\n",
    "from books as b\n",
    "left join ratings as r on b.book_id = r.book_id\n",
    "group by b.book_id\n",
    "order by rating_count desc\n",
    "limit 5\n",
    "'''\n",
    "display((pd.read_sql_query(query, engine)))"
   ]
  },
  {
   "cell_type": "markdown",
   "id": "e486e152",
   "metadata": {},
   "source": [
    "Снова лидирует произведение `Twilight`, на данную книгу было написано 7 обзоров, а пользователи оценили 160 раз. В два раза меньше была оценена книга `The Hobbit or There and Back Again` - 88 раз."
   ]
  },
  {
   "cell_type": "markdown",
   "id": "17ed98a2",
   "metadata": {},
   "source": [
    "**Запрос 3**  \n",
    "Определить издательство, которое выпустило наибольшее число книг толще 50 страниц (исключить брошюры)"
   ]
  },
  {
   "cell_type": "code",
   "execution_count": 9,
   "id": "5c63e49b",
   "metadata": {},
   "outputs": [
    {
     "data": {
      "text/html": [
       "<div>\n",
       "<style scoped>\n",
       "    .dataframe tbody tr th:only-of-type {\n",
       "        vertical-align: middle;\n",
       "    }\n",
       "\n",
       "    .dataframe tbody tr th {\n",
       "        vertical-align: top;\n",
       "    }\n",
       "\n",
       "    .dataframe thead th {\n",
       "        text-align: right;\n",
       "    }\n",
       "</style>\n",
       "<table border=\"1\" class=\"dataframe\">\n",
       "  <thead>\n",
       "    <tr style=\"text-align: right;\">\n",
       "      <th></th>\n",
       "      <th>publisher</th>\n",
       "      <th>total_books</th>\n",
       "    </tr>\n",
       "  </thead>\n",
       "  <tbody>\n",
       "    <tr>\n",
       "      <th>0</th>\n",
       "      <td>Penguin Books</td>\n",
       "      <td>42</td>\n",
       "    </tr>\n",
       "    <tr>\n",
       "      <th>1</th>\n",
       "      <td>Vintage</td>\n",
       "      <td>31</td>\n",
       "    </tr>\n",
       "    <tr>\n",
       "      <th>2</th>\n",
       "      <td>Grand Central Publishing</td>\n",
       "      <td>25</td>\n",
       "    </tr>\n",
       "    <tr>\n",
       "      <th>3</th>\n",
       "      <td>Penguin Classics</td>\n",
       "      <td>24</td>\n",
       "    </tr>\n",
       "    <tr>\n",
       "      <th>4</th>\n",
       "      <td>Bantam</td>\n",
       "      <td>19</td>\n",
       "    </tr>\n",
       "  </tbody>\n",
       "</table>\n",
       "</div>"
      ],
      "text/plain": [
       "                  publisher  total_books\n",
       "0             Penguin Books           42\n",
       "1                   Vintage           31\n",
       "2  Grand Central Publishing           25\n",
       "3          Penguin Classics           24\n",
       "4                    Bantam           19"
      ]
     },
     "metadata": {},
     "output_type": "display_data"
    }
   ],
   "source": [
    "query = '''\n",
    "select publisher, count(book_id) as total_books\n",
    "from publishers as p\n",
    "join books as b on p.publisher_id = b.publisher_id\n",
    "where num_pages > 50\n",
    "group by publisher\n",
    "order by total_books desc\n",
    "limit 5\n",
    "'''\n",
    "display((pd.read_sql_query(query, engine)))"
   ]
  },
  {
   "cell_type": "markdown",
   "id": "4f7bbc18",
   "metadata": {},
   "source": [
    "Больше всего книг было выпущено издательством `Penguin Books` - 42 книги, на втором месте издательство `Vintage` - 31 книга."
   ]
  },
  {
   "cell_type": "markdown",
   "id": "ee2fe91b",
   "metadata": {},
   "source": [
    "**Запрос 4**  \n",
    "Определить автора с самой высокой средней оценкой книг (учитывать только книги с 50 и более оценками)"
   ]
  },
  {
   "cell_type": "code",
   "execution_count": 10,
   "id": "5d88fdfe",
   "metadata": {},
   "outputs": [
    {
     "data": {
      "text/html": [
       "<div>\n",
       "<style scoped>\n",
       "    .dataframe tbody tr th:only-of-type {\n",
       "        vertical-align: middle;\n",
       "    }\n",
       "\n",
       "    .dataframe tbody tr th {\n",
       "        vertical-align: top;\n",
       "    }\n",
       "\n",
       "    .dataframe thead th {\n",
       "        text-align: right;\n",
       "    }\n",
       "</style>\n",
       "<table border=\"1\" class=\"dataframe\">\n",
       "  <thead>\n",
       "    <tr style=\"text-align: right;\">\n",
       "      <th></th>\n",
       "      <th>author</th>\n",
       "      <th>rating</th>\n",
       "    </tr>\n",
       "  </thead>\n",
       "  <tbody>\n",
       "    <tr>\n",
       "      <th>0</th>\n",
       "      <td>J.K. Rowling/Mary GrandPré</td>\n",
       "      <td>4.2871</td>\n",
       "    </tr>\n",
       "    <tr>\n",
       "      <th>1</th>\n",
       "      <td>Markus Zusak/Cao Xuân Việt Khương</td>\n",
       "      <td>4.2642</td>\n",
       "    </tr>\n",
       "    <tr>\n",
       "      <th>2</th>\n",
       "      <td>J.R.R. Tolkien</td>\n",
       "      <td>4.2469</td>\n",
       "    </tr>\n",
       "    <tr>\n",
       "      <th>3</th>\n",
       "      <td>Louisa May Alcott</td>\n",
       "      <td>4.1923</td>\n",
       "    </tr>\n",
       "    <tr>\n",
       "      <th>4</th>\n",
       "      <td>Rick Riordan</td>\n",
       "      <td>4.0806</td>\n",
       "    </tr>\n",
       "  </tbody>\n",
       "</table>\n",
       "</div>"
      ],
      "text/plain": [
       "                              author  rating\n",
       "0         J.K. Rowling/Mary GrandPré  4.2871\n",
       "1  Markus Zusak/Cao Xuân Việt Khương  4.2642\n",
       "2                     J.R.R. Tolkien  4.2469\n",
       "3                  Louisa May Alcott  4.1923\n",
       "4                       Rick Riordan  4.0806"
      ]
     },
     "metadata": {},
     "output_type": "display_data"
    }
   ],
   "source": [
    "query = '''\n",
    "select author, round(avg(rating),4) as rating\n",
    "from books as b\n",
    "join ratings as r on b.book_id = r.book_id\n",
    "join authors as a on b.author_id = a.author_id\n",
    "where b.book_id in (select r.book_id\n",
    "                    from ratings as r\n",
    "                    group by book_id\n",
    "                    having count (*) >= 50)\n",
    "group by a.author_id\n",
    "order by rating desc\n",
    "limit 5\n",
    "'''\n",
    "display((pd.read_sql_query(query, engine)))"
   ]
  },
  {
   "cell_type": "markdown",
   "id": "8ae0cf59",
   "metadata": {},
   "source": [
    "По значению среднего рейтинга книг лидирует автор `J.K. Rowling/Mary GrandPré` - 4.29. На втором и третьем местах, с совсем небольшим отрывом, авторы `Markus Zusak/Cao Xuân Việt Khương` и `J.R.R. Tolkien` ~ 4.26."
   ]
  },
  {
   "cell_type": "markdown",
   "id": "7ffd9f51",
   "metadata": {},
   "source": [
    "**Запрос 5**  \n",
    "Посчитать среднее количество обзоров от пользователей, которые поставили больше 48 оценок"
   ]
  },
  {
   "cell_type": "code",
   "execution_count": 11,
   "id": "8d51b176",
   "metadata": {},
   "outputs": [
    {
     "data": {
      "text/html": [
       "<div>\n",
       "<style scoped>\n",
       "    .dataframe tbody tr th:only-of-type {\n",
       "        vertical-align: middle;\n",
       "    }\n",
       "\n",
       "    .dataframe tbody tr th {\n",
       "        vertical-align: top;\n",
       "    }\n",
       "\n",
       "    .dataframe thead th {\n",
       "        text-align: right;\n",
       "    }\n",
       "</style>\n",
       "<table border=\"1\" class=\"dataframe\">\n",
       "  <thead>\n",
       "    <tr style=\"text-align: right;\">\n",
       "      <th></th>\n",
       "      <th>avg_reviews</th>\n",
       "    </tr>\n",
       "  </thead>\n",
       "  <tbody>\n",
       "    <tr>\n",
       "      <th>0</th>\n",
       "      <td>24.0</td>\n",
       "    </tr>\n",
       "  </tbody>\n",
       "</table>\n",
       "</div>"
      ],
      "text/plain": [
       "   avg_reviews\n",
       "0         24.0"
      ]
     },
     "metadata": {},
     "output_type": "display_data"
    }
   ],
   "source": [
    "query = '''\n",
    "select avg(reviews_count) as avg_reviews\n",
    "from (select username,\n",
    "             count(review_id) as reviews_count\n",
    "      from reviews\n",
    "      where username in (select username\n",
    "                        from ratings\n",
    "                        group by username\n",
    "                        having count(rating_id) > 48)\n",
    "      group by username) as user_reviews\n",
    "'''\n",
    "display((pd.read_sql_query(query, engine)))"
   ]
  },
  {
   "cell_type": "markdown",
   "id": "e8b734a2",
   "metadata": {},
   "source": [
    "Пользователи, поставившие более 48ми оценок, в среднем написали 24 обзора на книги"
   ]
  },
  {
   "cell_type": "markdown",
   "id": "3889b250",
   "metadata": {},
   "source": [
    "**Вывод**  \n",
    "\n",
    "- Всего в сервисе представлено 1000 книг от 636 авторов\n",
    "- 819 книг было выпущено после 1 января 2000 года\n",
    "- Больше всего обзоров написано на книгу `Twilight` - 7 обзоров (данная книга лидирует и по количеству пользовательских оценок - 160 раз), второе и третье место по количеству обзоров занимают произведения J.K. Rowling `Harry Potter and the Prisoner of Azkaban` и `Harry Potter and the Chamber of Secrets` (6 обзоров).\n",
    "- Из тысячи книг, у 44-х рейтинг равен 5 баллам.\n",
    "- Больше всего книг было выпущено издательством `Penguin Books` - 42 книги, на втором месте издательство `Vintage` - 31 книга.\n",
    "- По значению среднего рейтинга книг лидирует автор `J.K. Rowling/Mary GrandPré` - 4.28. На втором и третьем местах, с совсем небольшим отрывом, авторы `Markus Zusak/Cao Xuân Việt Khương` и `J.R.R. Tolkien` - 4.26\n",
    "- В среднем, самые активные пользователи, написали 24 обзора на книги."
   ]
  }
 ],
 "metadata": {
  "ExecuteTimeLog": [
   {
    "duration": 27479,
    "start_time": "2024-02-27T12:06:03.909Z"
   },
   {
    "duration": 8635,
    "start_time": "2024-02-27T12:06:31.390Z"
   },
   {
    "duration": 575,
    "start_time": "2024-02-27T12:06:40.027Z"
   },
   {
    "duration": 39,
    "start_time": "2024-02-27T12:06:40.604Z"
   },
   {
    "duration": 84,
    "start_time": "2024-02-27T12:06:40.644Z"
   },
   {
    "duration": 70,
    "start_time": "2024-02-27T12:06:40.730Z"
   },
   {
    "duration": 49,
    "start_time": "2024-02-27T12:06:40.801Z"
   },
   {
    "duration": 44,
    "start_time": "2024-02-27T12:06:40.852Z"
   },
   {
    "duration": 41,
    "start_time": "2024-02-27T12:06:40.898Z"
   },
   {
    "duration": 45,
    "start_time": "2024-02-27T12:06:40.942Z"
   },
   {
    "duration": 42,
    "start_time": "2024-02-27T12:06:40.989Z"
   },
   {
    "duration": 46,
    "start_time": "2024-02-27T18:46:33.991Z"
   },
   {
    "duration": 516,
    "start_time": "2024-02-27T18:46:40.297Z"
   },
   {
    "duration": 8301,
    "start_time": "2024-02-27T18:46:42.806Z"
   },
   {
    "duration": 227,
    "start_time": "2024-02-27T19:08:43.406Z"
   },
   {
    "duration": 43,
    "start_time": "2024-02-27T19:11:53.000Z"
   },
   {
    "duration": 163,
    "start_time": "2024-02-27T19:17:54.309Z"
   },
   {
    "duration": 122,
    "start_time": "2024-02-27T19:18:29.839Z"
   },
   {
    "duration": 45,
    "start_time": "2024-02-27T19:18:42.940Z"
   },
   {
    "duration": 45,
    "start_time": "2024-02-27T19:18:58.895Z"
   },
   {
    "duration": 1554,
    "start_time": "2024-02-27T19:19:06.820Z"
   },
   {
    "duration": 44,
    "start_time": "2024-02-27T19:19:53.716Z"
   },
   {
    "duration": 43,
    "start_time": "2024-02-27T19:20:06.797Z"
   },
   {
    "duration": 45,
    "start_time": "2024-02-27T19:27:21.697Z"
   },
   {
    "duration": 517,
    "start_time": "2024-02-27T19:35:51.634Z"
   },
   {
    "duration": 8062,
    "start_time": "2024-02-27T19:35:52.153Z"
   },
   {
    "duration": 577,
    "start_time": "2024-02-27T19:36:00.216Z"
   },
   {
    "duration": 40,
    "start_time": "2024-02-27T19:36:00.795Z"
   },
   {
    "duration": 84,
    "start_time": "2024-02-27T19:36:00.837Z"
   },
   {
    "duration": 76,
    "start_time": "2024-02-27T19:36:00.923Z"
   },
   {
    "duration": 52,
    "start_time": "2024-02-27T19:36:01.001Z"
   },
   {
    "duration": 46,
    "start_time": "2024-02-27T19:36:01.054Z"
   },
   {
    "duration": 64,
    "start_time": "2024-02-27T19:36:01.101Z"
   },
   {
    "duration": 46,
    "start_time": "2024-02-27T19:36:01.167Z"
   },
   {
    "duration": 127,
    "start_time": "2024-02-27T19:36:01.215Z"
   },
   {
    "duration": 74,
    "start_time": "2024-02-27T19:36:01.344Z"
   },
   {
    "duration": 472,
    "start_time": "2024-02-28T05:05:03.409Z"
   },
   {
    "duration": 8089,
    "start_time": "2024-02-28T05:05:03.882Z"
   },
   {
    "duration": 557,
    "start_time": "2024-02-28T05:05:11.975Z"
   },
   {
    "duration": 38,
    "start_time": "2024-02-28T05:05:12.533Z"
   },
   {
    "duration": 77,
    "start_time": "2024-02-28T05:05:12.572Z"
   },
   {
    "duration": 67,
    "start_time": "2024-02-28T05:05:12.650Z"
   },
   {
    "duration": 48,
    "start_time": "2024-02-28T05:05:12.719Z"
   },
   {
    "duration": 43,
    "start_time": "2024-02-28T05:05:12.768Z"
   },
   {
    "duration": 40,
    "start_time": "2024-02-28T05:05:12.814Z"
   },
   {
    "duration": 44,
    "start_time": "2024-02-28T05:05:12.855Z"
   },
   {
    "duration": 42,
    "start_time": "2024-02-28T05:05:12.900Z"
   },
   {
    "duration": 41,
    "start_time": "2024-02-28T05:05:12.943Z"
   },
   {
    "duration": 44,
    "start_time": "2024-02-28T05:05:25.079Z"
   },
   {
    "duration": 43,
    "start_time": "2024-02-28T05:05:29.396Z"
   }
  ],
  "kernelspec": {
   "display_name": "Python 3 (ipykernel)",
   "language": "python",
   "name": "python3"
  },
  "language_info": {
   "codemirror_mode": {
    "name": "ipython",
    "version": 3
   },
   "file_extension": ".py",
   "mimetype": "text/x-python",
   "name": "python",
   "nbconvert_exporter": "python",
   "pygments_lexer": "ipython3",
   "version": "3.10.9"
  },
  "toc": {
   "base_numbering": 1,
   "nav_menu": {},
   "number_sections": true,
   "sideBar": true,
   "skip_h1_title": true,
   "title_cell": "Table of Contents",
   "title_sidebar": "Contents",
   "toc_cell": false,
   "toc_position": {},
   "toc_section_display": true,
   "toc_window_display": false
  }
 },
 "nbformat": 4,
 "nbformat_minor": 5
}
