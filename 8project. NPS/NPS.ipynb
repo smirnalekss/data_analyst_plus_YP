{
 "cells": [
  {
   "cell_type": "markdown",
   "id": "603c7c98",
   "metadata": {},
   "source": [
    "# Определение текущего уровеня потребительской лояльности (NPS) телекоммуникационной компании среди клиентов из России. "
   ]
  },
  {
   "cell_type": "markdown",
   "id": "f5cbe814",
   "metadata": {},
   "source": [
    "**Описание проекта**  \n",
    "\n",
    "Заказчик этого исследования — большая телекоммуникационная компания, которая оказывает услуги на территории всего СНГ. Перед компанией стоит задача определить текущий уровень потребительской лояльности, или NPS (от англ. Net Promoter Score), среди клиентов из России.  \n",
    "Чтобы определить уровень лояльности, клиентам задавали классический вопрос: «Оцените по шкале от 1 до 10 вероятность того, что вы порекомендуете компанию друзьям и знакомым».  \n",
    "Компания провела опрос и попросила подготовить дашборд с его итогами. Большую базу данных для такой задачи разворачивать не стали и выгрузили данные в SQLite.  \n",
    "Чтобы оценить результаты опроса, оценки обычно делят на три группы:  \n",
    "- 9-10 баллов — «cторонники» (англ. promoters);  \n",
    "- 7-8 баллов — «нейтралы» (англ. passives);  \n",
    "- 0-6 баллов — «критики» (англ. detractors).  \n",
    "Итоговое значение NPS рассчитывается по формуле: % «сторонников» - % «критиков».  \n",
    "\n",
    "**Цель проекта**  \n",
    "\n",
    "1. Построить дашборд, который представит информацию о текущем уровне NPS среди клиентов и покажет, как этот уровень меняется в зависимости от пользовательских признаков.  \n",
    "2. ответить на вопросы:  \n",
    "- Как распределены участники опроса по возрасту и полу? Каких пользователей больше: новых или старых? Пользователи из каких городов активнее участвовали в опросе?  \n",
    "- Какие группы пользователей наиболее лояльны к сервису? Какие менее?  \n",
    "- Какой общий NPS среди всех опрошенных?  \n",
    "- Как можно описать клиентов, которые относятся к группе cторонников (англ. promoters)?  \n",
    "3. Ответы на вопросы оформить в виде презентации"
   ]
  },
  {
   "cell_type": "code",
   "execution_count": 1,
   "id": "fc7efa54",
   "metadata": {},
   "outputs": [],
   "source": [
    "# импортируем необходимые библиотеки\n",
    "import os\n",
    "import pandas as pd\n",
    "import numpy as np\n",
    "\n",
    "from sqlalchemy import create_engine"
   ]
  },
  {
   "cell_type": "code",
   "execution_count": 2,
   "id": "0017f8e7",
   "metadata": {},
   "outputs": [],
   "source": [
    "path_to_db_local = 'telecomm_csi.db'\n",
    "path_to_db_platform = '/datasets/telecomm_csi.db'\n",
    "path_to_db = None\n",
    "\n",
    "if os.path.exists(path_to_db_local):\n",
    "    path_to_db = path_to_db_local\n",
    "elif os.path.exists(path_to_db_platform):\n",
    "    path_to_db = path_to_db_platform\n",
    "else:\n",
    "    raise Exception('Файл с базой данных SQLite не найден!')\n",
    "\n",
    "if path_to_db:\n",
    "    engine = create_engine(f'sqlite:///{path_to_db}', echo=False)"
   ]
  },
  {
   "cell_type": "markdown",
   "id": "a1006ba1",
   "metadata": {},
   "source": [
    "Предварительно проанализировав данные, будем делать SQL запрос со следующими условиями:\n",
    "- тип данных в столбце `age` - float - поменяем на int\n",
    "- разделим клиентов на новые и старые (`new client` / `old client`)\n",
    "- поменяем поле gender_segment вместо 0 и 1 на `man` и `woman`\n",
    "- поменяем регистр и разобъем на категории столбцы с типом операционной системы и типом устройства\n",
    "- корректно пропишем города, где это необходимо\n",
    "- возмем только необходимую часть из столбцов с сегментами (возростной, по объёму потребляемого трафика и по количеству дней «жизни»)\n",
    "- результаты опроса, разделим на три группы\n",
    "- в столбцах `age` и `gender_segment` были пропуски, в запросе исключим их  \n",
    "\n",
    "После предобработки, в наших данных осталось 501152 строк.  \n",
    "Удалили 0,27% строк, что в данном случае допустимо и не повлияет на далнейший ход исследования."
   ]
  },
  {
   "cell_type": "code",
   "execution_count": 3,
   "id": "a1aa6ac6",
   "metadata": {},
   "outputs": [],
   "source": [
    "query = \"\"\"\n",
    "SELECT u.user_id,\n",
    "       u.lt_day,\n",
    "       CASE \n",
    "           WHEN u.lt_day <= 365 THEN 'new client' \n",
    "           ELSE 'old client' \n",
    "           END as is_new,\n",
    "       CAST(u.age AS INT) as age,\n",
    "       CASE \n",
    "           WHEN u.gender_segment = 1 THEN 'woman' \n",
    "           ELSE 'man' \n",
    "           END as gender_segment,\n",
    "       CASE\n",
    "           WHEN u.os_name = 'ANDROID' THEN 'Android'\n",
    "           WHEN u.os_name = 'PROPRIETARY' THEN 'Proprietary'\n",
    "           WHEN u.os_name = 'OTHER' OR os_name = 'unknown' THEN 'Other'\n",
    "           WHEN u.os_name IN ('WINDOWS PHONE', 'WINDOWS MOBILE') THEN 'Windows'\n",
    "           WHEN u.os_name = 'SYMBIAN OS' THEN 'Symbian OS'\n",
    "           WHEN u.os_name = 'BADA OS' THEN 'Bada OS'\n",
    "           ELSE u.os_name END as os_name,\n",
    "       CASE\n",
    "           WHEN u.cpe_type_name = 'SMARTPHONE' THEN 'Smartphone'\n",
    "           WHEN u.cpe_type_name = 'TABLET' THEN 'Tablet'\n",
    "           WHEN u.cpe_type_name IN ('PHONE', 'MOBILE PHONE/FEATURE PHONE') THEN 'Phone'\n",
    "           WHEN u.cpe_type_name IN ('ROUTER', 'WLAN ROUTER', 'MIFI ROUTER') THEN 'Router'\n",
    "           WHEN u.cpe_type_name IN ('USB MODEM', 'MODEM') THEN 'Modem'\n",
    "           ELSE 'Other' END as cpe_type_name,\n",
    "       l.country,\n",
    "       CASE\n",
    "           WHEN l.city = 'СанктПетербург' THEN 'Санкт-Петербург'\n",
    "           WHEN l.city = 'НижнийНовгород' THEN 'Нижний Новгород'\n",
    "           WHEN l.city = 'РостовнаДону' THEN 'Ростов-на-Дону'\n",
    "           WHEN l.city = 'НабережныеЧелны' THEN 'Набережные Челны'\n",
    "           WHEN l.city = 'УланУдэ' THEN 'Улан-Удэ'\n",
    "           WHEN l.city = 'НижнийТагил' THEN 'Нижний Тагил'\n",
    "           ELSE l.city END as city,\n",
    "       SUBSTRING(ags.title, 4) as age_segment,\n",
    "       SUBSTRING(ts.title, 4) as traffic_segment,\n",
    "       SUBSTRING(ls.title,4) as lifetime_segment,\n",
    "       u.nps_score,\n",
    "       CASE \n",
    "           WHEN u.nps_score >= 9 THEN 'promoters'\n",
    "           WHEN u.nps_score >= 7 THEN 'passives'\n",
    "           ELSE 'detractors'\n",
    "           END as nps_group\n",
    "FROM user as u\n",
    "JOIN location as l ON u.location_id = l.location_id\n",
    "JOIN age_segment as ags ON u.age_gr_id=ags.age_gr_id\n",
    "JOIN traffic_segment ts ON u.tr_gr_id=ts.tr_gr_id\n",
    "JOIN lifetime_segment ls ON u.lt_gr_id=ls.lt_gr_id\n",
    "WHERE u.age AND u.gender_segment IS NOT NULL; \n",
    "\"\"\""
   ]
  },
  {
   "cell_type": "code",
   "execution_count": 4,
   "id": "6b82464b",
   "metadata": {},
   "outputs": [],
   "source": [
    "df = pd.read_sql(query, engine)\n",
    "#df.sample(10)"
   ]
  },
  {
   "cell_type": "code",
   "execution_count": 5,
   "id": "abd744bb",
   "metadata": {},
   "outputs": [],
   "source": [
    "#df.info()"
   ]
  },
  {
   "cell_type": "code",
   "execution_count": 6,
   "id": "9db04858",
   "metadata": {},
   "outputs": [],
   "source": [
    "df.to_csv('telecomm_csi_tableau.csv', index=False)"
   ]
  },
  {
   "cell_type": "code",
   "execution_count": 7,
   "id": "22e5d456",
   "metadata": {},
   "outputs": [
    {
     "data": {
      "text/html": [
       "<div>\n",
       "<style scoped>\n",
       "    .dataframe tbody tr th:only-of-type {\n",
       "        vertical-align: middle;\n",
       "    }\n",
       "\n",
       "    .dataframe tbody tr th {\n",
       "        vertical-align: top;\n",
       "    }\n",
       "\n",
       "    .dataframe thead th {\n",
       "        text-align: right;\n",
       "    }\n",
       "</style>\n",
       "<table border=\"1\" class=\"dataframe\">\n",
       "  <thead>\n",
       "    <tr style=\"text-align: right;\">\n",
       "      <th></th>\n",
       "      <th>user_id</th>\n",
       "      <th>lt_day</th>\n",
       "      <th>is_new</th>\n",
       "      <th>age</th>\n",
       "      <th>gender_segment</th>\n",
       "      <th>os_name</th>\n",
       "      <th>cpe_type_name</th>\n",
       "      <th>country</th>\n",
       "      <th>city</th>\n",
       "      <th>age_segment</th>\n",
       "      <th>traffic_segment</th>\n",
       "      <th>lifetime_segment</th>\n",
       "      <th>nps_score</th>\n",
       "      <th>nps_group</th>\n",
       "    </tr>\n",
       "  </thead>\n",
       "  <tbody>\n",
       "    <tr>\n",
       "      <th>0</th>\n",
       "      <td>A001A2</td>\n",
       "      <td>2320</td>\n",
       "      <td>old client</td>\n",
       "      <td>45</td>\n",
       "      <td>woman</td>\n",
       "      <td>Android</td>\n",
       "      <td>Smartphone</td>\n",
       "      <td>Россия</td>\n",
       "      <td>Уфа</td>\n",
       "      <td>45-54</td>\n",
       "      <td>1-5</td>\n",
       "      <td>36+</td>\n",
       "      <td>10</td>\n",
       "      <td>promoters</td>\n",
       "    </tr>\n",
       "    <tr>\n",
       "      <th>1</th>\n",
       "      <td>A001WF</td>\n",
       "      <td>2344</td>\n",
       "      <td>old client</td>\n",
       "      <td>53</td>\n",
       "      <td>man</td>\n",
       "      <td>Android</td>\n",
       "      <td>Smartphone</td>\n",
       "      <td>Россия</td>\n",
       "      <td>Киров</td>\n",
       "      <td>45-54</td>\n",
       "      <td>1-5</td>\n",
       "      <td>36+</td>\n",
       "      <td>10</td>\n",
       "      <td>promoters</td>\n",
       "    </tr>\n",
       "    <tr>\n",
       "      <th>2</th>\n",
       "      <td>A003Q7</td>\n",
       "      <td>467</td>\n",
       "      <td>old client</td>\n",
       "      <td>57</td>\n",
       "      <td>man</td>\n",
       "      <td>Android</td>\n",
       "      <td>Smartphone</td>\n",
       "      <td>Россия</td>\n",
       "      <td>Москва</td>\n",
       "      <td>55-64</td>\n",
       "      <td>20-25</td>\n",
       "      <td>13-24</td>\n",
       "      <td>10</td>\n",
       "      <td>promoters</td>\n",
       "    </tr>\n",
       "    <tr>\n",
       "      <th>3</th>\n",
       "      <td>A004TB</td>\n",
       "      <td>4190</td>\n",
       "      <td>old client</td>\n",
       "      <td>44</td>\n",
       "      <td>woman</td>\n",
       "      <td>IOS</td>\n",
       "      <td>Smartphone</td>\n",
       "      <td>Россия</td>\n",
       "      <td>Ростов-на-Дону</td>\n",
       "      <td>35-44</td>\n",
       "      <td>0.1-1</td>\n",
       "      <td>36+</td>\n",
       "      <td>10</td>\n",
       "      <td>promoters</td>\n",
       "    </tr>\n",
       "    <tr>\n",
       "      <th>4</th>\n",
       "      <td>A004XT</td>\n",
       "      <td>1163</td>\n",
       "      <td>old client</td>\n",
       "      <td>24</td>\n",
       "      <td>man</td>\n",
       "      <td>Android</td>\n",
       "      <td>Smartphone</td>\n",
       "      <td>Россия</td>\n",
       "      <td>Рязань</td>\n",
       "      <td>16-24</td>\n",
       "      <td>5-10</td>\n",
       "      <td>36+</td>\n",
       "      <td>10</td>\n",
       "      <td>promoters</td>\n",
       "    </tr>\n",
       "    <tr>\n",
       "      <th>...</th>\n",
       "      <td>...</td>\n",
       "      <td>...</td>\n",
       "      <td>...</td>\n",
       "      <td>...</td>\n",
       "      <td>...</td>\n",
       "      <td>...</td>\n",
       "      <td>...</td>\n",
       "      <td>...</td>\n",
       "      <td>...</td>\n",
       "      <td>...</td>\n",
       "      <td>...</td>\n",
       "      <td>...</td>\n",
       "      <td>...</td>\n",
       "      <td>...</td>\n",
       "    </tr>\n",
       "    <tr>\n",
       "      <th>501147</th>\n",
       "      <td>ZZZKLD</td>\n",
       "      <td>1249</td>\n",
       "      <td>old client</td>\n",
       "      <td>54</td>\n",
       "      <td>woman</td>\n",
       "      <td>Android</td>\n",
       "      <td>Smartphone</td>\n",
       "      <td>Россия</td>\n",
       "      <td>Москва</td>\n",
       "      <td>45-54</td>\n",
       "      <td>1-5</td>\n",
       "      <td>36+</td>\n",
       "      <td>5</td>\n",
       "      <td>detractors</td>\n",
       "    </tr>\n",
       "    <tr>\n",
       "      <th>501148</th>\n",
       "      <td>ZZZLWY</td>\n",
       "      <td>129</td>\n",
       "      <td>new client</td>\n",
       "      <td>31</td>\n",
       "      <td>man</td>\n",
       "      <td>Android</td>\n",
       "      <td>Smartphone</td>\n",
       "      <td>Россия</td>\n",
       "      <td>Москва</td>\n",
       "      <td>25-34</td>\n",
       "      <td>1-5</td>\n",
       "      <td>4-6</td>\n",
       "      <td>8</td>\n",
       "      <td>passives</td>\n",
       "    </tr>\n",
       "    <tr>\n",
       "      <th>501149</th>\n",
       "      <td>ZZZQ5F</td>\n",
       "      <td>522</td>\n",
       "      <td>old client</td>\n",
       "      <td>36</td>\n",
       "      <td>man</td>\n",
       "      <td>Android</td>\n",
       "      <td>Smartphone</td>\n",
       "      <td>Россия</td>\n",
       "      <td>Сургут</td>\n",
       "      <td>35-44</td>\n",
       "      <td>25-30</td>\n",
       "      <td>13-24</td>\n",
       "      <td>10</td>\n",
       "      <td>promoters</td>\n",
       "    </tr>\n",
       "    <tr>\n",
       "      <th>501150</th>\n",
       "      <td>ZZZQ8E</td>\n",
       "      <td>2936</td>\n",
       "      <td>old client</td>\n",
       "      <td>37</td>\n",
       "      <td>woman</td>\n",
       "      <td>Android</td>\n",
       "      <td>Smartphone</td>\n",
       "      <td>Россия</td>\n",
       "      <td>Улан-Удэ</td>\n",
       "      <td>35-44</td>\n",
       "      <td>65-70</td>\n",
       "      <td>36+</td>\n",
       "      <td>9</td>\n",
       "      <td>promoters</td>\n",
       "    </tr>\n",
       "    <tr>\n",
       "      <th>501151</th>\n",
       "      <td>ZZZYH0</td>\n",
       "      <td>2471</td>\n",
       "      <td>old client</td>\n",
       "      <td>37</td>\n",
       "      <td>man</td>\n",
       "      <td>IOS</td>\n",
       "      <td>Smartphone</td>\n",
       "      <td>Россия</td>\n",
       "      <td>Самара</td>\n",
       "      <td>35-44</td>\n",
       "      <td>10-15</td>\n",
       "      <td>36+</td>\n",
       "      <td>2</td>\n",
       "      <td>detractors</td>\n",
       "    </tr>\n",
       "  </tbody>\n",
       "</table>\n",
       "<p>501152 rows × 14 columns</p>\n",
       "</div>"
      ],
      "text/plain": [
       "       user_id  lt_day      is_new  age gender_segment  os_name cpe_type_name  \\\n",
       "0       A001A2    2320  old client   45          woman  Android    Smartphone   \n",
       "1       A001WF    2344  old client   53            man  Android    Smartphone   \n",
       "2       A003Q7     467  old client   57            man  Android    Smartphone   \n",
       "3       A004TB    4190  old client   44          woman      IOS    Smartphone   \n",
       "4       A004XT    1163  old client   24            man  Android    Smartphone   \n",
       "...        ...     ...         ...  ...            ...      ...           ...   \n",
       "501147  ZZZKLD    1249  old client   54          woman  Android    Smartphone   \n",
       "501148  ZZZLWY     129  new client   31            man  Android    Smartphone   \n",
       "501149  ZZZQ5F     522  old client   36            man  Android    Smartphone   \n",
       "501150  ZZZQ8E    2936  old client   37          woman  Android    Smartphone   \n",
       "501151  ZZZYH0    2471  old client   37            man      IOS    Smartphone   \n",
       "\n",
       "       country            city age_segment traffic_segment lifetime_segment  \\\n",
       "0       Россия             Уфа       45-54             1-5              36+   \n",
       "1       Россия           Киров       45-54             1-5              36+   \n",
       "2       Россия          Москва       55-64           20-25            13-24   \n",
       "3       Россия  Ростов-на-Дону       35-44           0.1-1              36+   \n",
       "4       Россия          Рязань       16-24            5-10              36+   \n",
       "...        ...             ...         ...             ...              ...   \n",
       "501147  Россия          Москва       45-54             1-5              36+   \n",
       "501148  Россия          Москва       25-34             1-5              4-6   \n",
       "501149  Россия          Сургут       35-44           25-30            13-24   \n",
       "501150  Россия        Улан-Удэ       35-44           65-70              36+   \n",
       "501151  Россия          Самара       35-44           10-15              36+   \n",
       "\n",
       "        nps_score   nps_group  \n",
       "0              10   promoters  \n",
       "1              10   promoters  \n",
       "2              10   promoters  \n",
       "3              10   promoters  \n",
       "4              10   promoters  \n",
       "...           ...         ...  \n",
       "501147          5  detractors  \n",
       "501148          8    passives  \n",
       "501149         10   promoters  \n",
       "501150          9   promoters  \n",
       "501151          2  detractors  \n",
       "\n",
       "[501152 rows x 14 columns]"
      ]
     },
     "execution_count": 7,
     "metadata": {},
     "output_type": "execute_result"
    }
   ],
   "source": [
    "df"
   ]
  },
  {
   "cell_type": "markdown",
   "id": "39b7b2c4",
   "metadata": {},
   "source": [
    "Ссылка на tableau pablic\n"
   ]
  },
  {
   "cell_type": "markdown",
   "id": "467a09e7",
   "metadata": {},
   "source": [
    "https://public.tableau.com/views/NPStelecomcompany/PRESENTATION?:language=en-US&:display_count=n&:origin=viz_share_link"
   ]
  }
 ],
 "metadata": {
  "ExecuteTimeLog": [
   {
    "duration": 569,
    "start_time": "2023-07-17T07:27:17.917Z"
   },
   {
    "duration": 127,
    "start_time": "2023-07-17T07:27:18.660Z"
   },
   {
    "duration": 2,
    "start_time": "2023-07-17T07:27:19.966Z"
   },
   {
    "duration": 611,
    "start_time": "2023-07-17T07:27:20.580Z"
   },
   {
    "duration": 9,
    "start_time": "2023-07-17T07:27:21.261Z"
   },
   {
    "duration": 3,
    "start_time": "2023-07-17T08:29:17.312Z"
   },
   {
    "duration": 4111,
    "start_time": "2023-07-17T08:29:21.040Z"
   },
   {
    "duration": 2696,
    "start_time": "2023-07-17T08:29:25.153Z"
   },
   {
    "duration": 3314,
    "start_time": "2023-07-17T08:29:35.848Z"
   },
   {
    "duration": 2,
    "start_time": "2023-07-17T08:31:17.215Z"
   },
   {
    "duration": 548,
    "start_time": "2023-07-17T08:31:18.086Z"
   },
   {
    "duration": 3,
    "start_time": "2023-07-17T08:32:28.488Z"
   },
   {
    "duration": 3405,
    "start_time": "2023-07-17T08:32:29.600Z"
   },
   {
    "duration": 2,
    "start_time": "2023-07-17T08:33:00.684Z"
   },
   {
    "duration": 521,
    "start_time": "2023-07-17T08:33:01.414Z"
   },
   {
    "duration": 3,
    "start_time": "2023-07-17T08:33:51.568Z"
   },
   {
    "duration": 520,
    "start_time": "2023-07-17T08:33:52.409Z"
   },
   {
    "duration": 2,
    "start_time": "2023-07-17T08:34:45.320Z"
   },
   {
    "duration": 634,
    "start_time": "2023-07-17T08:34:46.111Z"
   },
   {
    "duration": 743,
    "start_time": "2023-07-17T08:56:44.938Z"
   },
   {
    "duration": 3,
    "start_time": "2023-07-17T08:57:05.596Z"
   },
   {
    "duration": 3762,
    "start_time": "2023-07-17T08:57:06.356Z"
   },
   {
    "duration": 3898,
    "start_time": "2023-07-17T08:57:26.101Z"
   },
   {
    "duration": 3,
    "start_time": "2023-07-17T08:58:07.110Z"
   },
   {
    "duration": 739,
    "start_time": "2023-07-17T08:58:08.270Z"
   },
   {
    "duration": 660,
    "start_time": "2023-07-17T08:58:43.553Z"
   },
   {
    "duration": 650,
    "start_time": "2023-07-17T08:58:56.203Z"
   },
   {
    "duration": 672,
    "start_time": "2023-07-17T08:59:10.116Z"
   },
   {
    "duration": 9,
    "start_time": "2023-07-17T08:59:41.589Z"
   },
   {
    "duration": 2,
    "start_time": "2023-07-17T10:03:21.939Z"
   },
   {
    "duration": 559,
    "start_time": "2023-07-17T10:03:22.492Z"
   },
   {
    "duration": 12,
    "start_time": "2023-07-17T10:04:14.418Z"
   },
   {
    "duration": 567,
    "start_time": "2023-07-17T10:04:15.412Z"
   },
   {
    "duration": 2,
    "start_time": "2023-07-17T10:05:11.587Z"
   },
   {
    "duration": 527,
    "start_time": "2023-07-17T10:05:12.369Z"
   },
   {
    "duration": 64,
    "start_time": "2023-07-17T10:34:11.022Z"
   },
   {
    "duration": 76,
    "start_time": "2023-07-17T10:55:57.790Z"
   },
   {
    "duration": 95,
    "start_time": "2023-07-17T10:59:48.261Z"
   },
   {
    "duration": 10,
    "start_time": "2023-07-17T11:37:30.963Z"
   },
   {
    "duration": 5156,
    "start_time": "2023-07-17T11:37:54.373Z"
   },
   {
    "duration": 129,
    "start_time": "2023-07-17T11:40:38.359Z"
   },
   {
    "duration": 136,
    "start_time": "2023-07-17T11:40:58.461Z"
   },
   {
    "duration": 157,
    "start_time": "2023-07-17T11:41:26.796Z"
   },
   {
    "duration": 141,
    "start_time": "2023-07-17T11:41:47.287Z"
   },
   {
    "duration": 133,
    "start_time": "2023-07-17T11:41:56.771Z"
   },
   {
    "duration": 122,
    "start_time": "2023-07-17T11:42:13.567Z"
   },
   {
    "duration": 14,
    "start_time": "2023-07-17T11:43:33.919Z"
   },
   {
    "duration": 3747,
    "start_time": "2023-07-17T11:43:45.361Z"
   },
   {
    "duration": 3646,
    "start_time": "2023-07-17T11:44:13.208Z"
   },
   {
    "duration": 119,
    "start_time": "2023-07-17T11:44:44.063Z"
   },
   {
    "duration": 3,
    "start_time": "2023-07-17T11:51:57.794Z"
   },
   {
    "duration": 258,
    "start_time": "2023-07-17T11:52:00.087Z"
   },
   {
    "duration": 4,
    "start_time": "2023-07-17T11:52:09.684Z"
   },
   {
    "duration": 6415,
    "start_time": "2023-07-17T11:52:12.560Z"
   },
   {
    "duration": 552,
    "start_time": "2023-07-17T11:52:30.437Z"
   },
   {
    "duration": 137,
    "start_time": "2023-07-17T11:53:26.766Z"
   },
   {
    "duration": 130,
    "start_time": "2023-07-17T11:53:38.755Z"
   },
   {
    "duration": 122,
    "start_time": "2023-07-17T11:53:49.582Z"
   },
   {
    "duration": 167,
    "start_time": "2023-07-17T11:54:02.792Z"
   },
   {
    "duration": 135,
    "start_time": "2023-07-17T11:54:12.259Z"
   },
   {
    "duration": 105,
    "start_time": "2023-07-17T11:54:20.662Z"
   },
   {
    "duration": 127,
    "start_time": "2023-07-17T11:54:36.857Z"
   },
   {
    "duration": 121,
    "start_time": "2023-07-17T11:54:48.462Z"
   },
   {
    "duration": 129,
    "start_time": "2023-07-17T11:55:02.666Z"
   },
   {
    "duration": 125,
    "start_time": "2023-07-17T11:55:14.662Z"
   },
   {
    "duration": 5647,
    "start_time": "2023-07-17T11:55:38.036Z"
   },
   {
    "duration": 6243,
    "start_time": "2023-07-17T11:55:50.562Z"
   },
   {
    "duration": 6111,
    "start_time": "2023-07-17T11:56:32.887Z"
   },
   {
    "duration": 2,
    "start_time": "2023-07-17T11:56:39.000Z"
   },
   {
    "duration": 6352,
    "start_time": "2023-07-17T11:56:45.864Z"
   },
   {
    "duration": 6068,
    "start_time": "2023-07-17T12:14:06.005Z"
   },
   {
    "duration": 5918,
    "start_time": "2023-07-17T12:17:09.087Z"
   },
   {
    "duration": 3,
    "start_time": "2023-07-17T12:17:27.969Z"
   },
   {
    "duration": 5794,
    "start_time": "2023-07-17T12:17:28.581Z"
   },
   {
    "duration": 7321,
    "start_time": "2023-07-17T12:17:34.377Z"
   },
   {
    "duration": 657,
    "start_time": "2023-07-17T12:18:20.604Z"
   },
   {
    "duration": 5596,
    "start_time": "2023-07-17T12:19:46.003Z"
   },
   {
    "duration": 639,
    "start_time": "2023-07-17T12:39:37.959Z"
   },
   {
    "duration": 2,
    "start_time": "2023-07-17T12:45:03.889Z"
   },
   {
    "duration": 656,
    "start_time": "2023-07-17T15:16:03.656Z"
   },
   {
    "duration": 68,
    "start_time": "2023-07-17T15:16:04.314Z"
   },
   {
    "duration": 4,
    "start_time": "2023-07-17T15:16:04.383Z"
   },
   {
    "duration": 5361,
    "start_time": "2023-07-17T15:16:04.389Z"
   },
   {
    "duration": 2,
    "start_time": "2023-07-17T15:16:09.752Z"
   },
   {
    "duration": 4531,
    "start_time": "2023-07-17T15:16:09.756Z"
   },
   {
    "duration": 5542,
    "start_time": "2023-07-17T15:16:29.501Z"
   },
   {
    "duration": 547,
    "start_time": "2023-07-18T06:16:50.220Z"
   },
   {
    "duration": 106,
    "start_time": "2023-07-18T06:16:50.769Z"
   },
   {
    "duration": 4,
    "start_time": "2023-07-18T06:16:50.877Z"
   },
   {
    "duration": 5496,
    "start_time": "2023-07-18T06:16:50.882Z"
   },
   {
    "duration": 3,
    "start_time": "2023-07-18T06:16:56.380Z"
   },
   {
    "duration": 3754,
    "start_time": "2023-07-18T06:16:56.384Z"
   },
   {
    "duration": 505,
    "start_time": "2023-07-20T11:37:33.008Z"
   },
   {
    "duration": 147,
    "start_time": "2023-07-20T11:37:33.515Z"
   },
   {
    "duration": 4,
    "start_time": "2023-07-20T11:37:33.664Z"
   },
   {
    "duration": 5675,
    "start_time": "2023-07-20T11:37:33.669Z"
   },
   {
    "duration": 2,
    "start_time": "2023-07-20T11:37:39.347Z"
   },
   {
    "duration": 3846,
    "start_time": "2023-07-20T11:37:39.351Z"
   },
   {
    "duration": 30,
    "start_time": "2023-07-20T11:38:03.182Z"
   },
   {
    "duration": 8,
    "start_time": "2023-07-20T11:38:34.601Z"
   },
   {
    "duration": 501,
    "start_time": "2023-07-22T11:56:05.621Z"
   },
   {
    "duration": 90,
    "start_time": "2023-07-22T11:56:06.124Z"
   },
   {
    "duration": 4,
    "start_time": "2023-07-22T11:56:06.216Z"
   },
   {
    "duration": 5686,
    "start_time": "2023-07-22T11:56:06.222Z"
   },
   {
    "duration": 2,
    "start_time": "2023-07-22T11:56:11.910Z"
   },
   {
    "duration": 3605,
    "start_time": "2023-07-22T11:56:11.914Z"
   },
   {
    "duration": 451,
    "start_time": "2023-07-22T18:20:10.371Z"
   },
   {
    "duration": 85,
    "start_time": "2023-07-22T18:20:10.824Z"
   },
   {
    "duration": 3,
    "start_time": "2023-07-22T18:20:10.911Z"
   },
   {
    "duration": 5804,
    "start_time": "2023-07-22T18:20:10.916Z"
   },
   {
    "duration": 3,
    "start_time": "2023-07-22T18:20:16.722Z"
   },
   {
    "duration": 3371,
    "start_time": "2023-07-22T18:20:16.727Z"
   },
   {
    "duration": 22,
    "start_time": "2023-07-22T18:20:29.267Z"
   },
   {
    "duration": 507,
    "start_time": "2023-07-23T07:44:25.244Z"
   },
   {
    "duration": 75,
    "start_time": "2023-07-23T07:44:25.753Z"
   },
   {
    "duration": 4,
    "start_time": "2023-07-23T07:44:25.830Z"
   },
   {
    "duration": 5664,
    "start_time": "2023-07-23T07:44:25.836Z"
   },
   {
    "duration": 3,
    "start_time": "2023-07-23T07:44:31.502Z"
   },
   {
    "duration": 3958,
    "start_time": "2023-07-23T07:44:31.513Z"
   },
   {
    "duration": 30,
    "start_time": "2023-07-23T07:44:35.473Z"
   }
  ],
  "kernelspec": {
   "display_name": "Python 3 (ipykernel)",
   "language": "python",
   "name": "python3"
  },
  "language_info": {
   "codemirror_mode": {
    "name": "ipython",
    "version": 3
   },
   "file_extension": ".py",
   "mimetype": "text/x-python",
   "name": "python",
   "nbconvert_exporter": "python",
   "pygments_lexer": "ipython3",
   "version": "3.10.9"
  },
  "toc": {
   "base_numbering": 1,
   "nav_menu": {},
   "number_sections": true,
   "sideBar": true,
   "skip_h1_title": true,
   "title_cell": "Содержание",
   "title_sidebar": "Contents",
   "toc_cell": false,
   "toc_position": {
    "height": "calc(100% - 180px)",
    "left": "10px",
    "top": "150px",
    "width": "165px"
   },
   "toc_section_display": true,
   "toc_window_display": false
  }
 },
 "nbformat": 4,
 "nbformat_minor": 5
}
